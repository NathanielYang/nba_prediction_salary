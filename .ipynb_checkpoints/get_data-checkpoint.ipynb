{
 "cells": [
  {
   "cell_type": "code",
   "execution_count": 1,
   "metadata": {},
   "outputs": [],
   "source": [
    "import requests\n",
    "from bs4 import BeautifulSoup\n",
    "import pprint as p\n",
    "import pandas as pd\n",
    "import numpy as np\n",
    "import re"
   ]
  },
  {
   "cell_type": "code",
   "execution_count": 88,
   "metadata": {},
   "outputs": [
    {
     "name": "stdout",
     "output_type": "stream",
     "text": [
      "['rank', 'player', 'pos', 'age', 'team_id', 'games', 'games_started', 'min_per_game', 'field_goals', 'field_goals_attempts', 'field_goals_pct', '3points', '3points_attempts', '3points_pct', '2points', '2points_attempts', '2points_pct', 'efg_pct', 'free_throws', 'free_throws_attempts', 'free_throws_pct', 'orb', 'drb', 'trb', 'assists', 'steals', 'blocks', 'turnovers', 'personal_fouls', 'points_per_game', 'year']\n"
     ]
    },
    {
     "data": {
      "text/html": [
       "<div>\n",
       "<style scoped>\n",
       "    .dataframe tbody tr th:only-of-type {\n",
       "        vertical-align: middle;\n",
       "    }\n",
       "\n",
       "    .dataframe tbody tr th {\n",
       "        vertical-align: top;\n",
       "    }\n",
       "\n",
       "    .dataframe thead th {\n",
       "        text-align: right;\n",
       "    }\n",
       "</style>\n",
       "<table border=\"1\" class=\"dataframe\">\n",
       "  <thead>\n",
       "    <tr style=\"text-align: right;\">\n",
       "      <th></th>\n",
       "      <th>rank</th>\n",
       "      <th>player</th>\n",
       "      <th>pos</th>\n",
       "      <th>age</th>\n",
       "      <th>team_id</th>\n",
       "      <th>games</th>\n",
       "      <th>games_started</th>\n",
       "      <th>min_per_game</th>\n",
       "      <th>field_goals</th>\n",
       "      <th>field_goals_attempts</th>\n",
       "      <th>...</th>\n",
       "      <th>orb</th>\n",
       "      <th>drb</th>\n",
       "      <th>trb</th>\n",
       "      <th>assists</th>\n",
       "      <th>steals</th>\n",
       "      <th>blocks</th>\n",
       "      <th>turnovers</th>\n",
       "      <th>personal_fouls</th>\n",
       "      <th>points_per_game</th>\n",
       "      <th>year</th>\n",
       "    </tr>\n",
       "  </thead>\n",
       "  <tbody>\n",
       "  </tbody>\n",
       "</table>\n",
       "<p>0 rows × 31 columns</p>\n",
       "</div>"
      ],
      "text/plain": [
       "Empty DataFrame\n",
       "Columns: [rank, player, pos, age, team_id, games, games_started, min_per_game, field_goals, field_goals_attempts, field_goals_pct, 3points, 3points_attempts, 3points_pct, 2points, 2points_attempts, 2points_pct, efg_pct, free_throws, free_throws_attempts, free_throws_pct, orb, drb, trb, assists, steals, blocks, turnovers, personal_fouls, points_per_game, year]\n",
       "Index: []\n",
       "\n",
       "[0 rows x 31 columns]"
      ]
     },
     "execution_count": 88,
     "metadata": {},
     "output_type": "execute_result"
    }
   ],
   "source": [
    "### pre use define format of data frame\n",
    "list_ = ['rank', 'player', 'pos', 'age', 'team_id', 'games', 'games_started', 'min_per_game', 'field_goals', 'field_goals_attempts', 'field_goals_pct', '3points', '3points_attempts', '3points_pct', '2points', '2points_attempts', '2points_pct', 'efg_pct', 'free_throws', 'free_throws_attempts', 'free_throws_pct', 'orb', 'drb', 'trb', 'assists', 'steals', 'blocks', 'turnovers', 'personal_fouls', 'points_per_game', 'year']\n",
    "col_names = player_df.columns\n",
    "print(list(col_names))\n",
    "player_df_final = pd.DataFrame(columns=col_names)\n",
    "player_df_final"
   ]
  },
  {
   "cell_type": "code",
   "execution_count": 89,
   "metadata": {},
   "outputs": [
    {
     "name": "stdout",
     "output_type": "stream",
     "text": [
      "https://www.basketball-reference.com/leagues/NBA_2010_per_game.html\n",
      "https://www.basketball-reference.com/leagues/NBA_2011_per_game.html\n",
      "https://www.basketball-reference.com/leagues/NBA_2012_per_game.html\n",
      "https://www.basketball-reference.com/leagues/NBA_2013_per_game.html\n",
      "https://www.basketball-reference.com/leagues/NBA_2014_per_game.html\n",
      "https://www.basketball-reference.com/leagues/NBA_2015_per_game.html\n",
      "https://www.basketball-reference.com/leagues/NBA_2016_per_game.html\n",
      "https://www.basketball-reference.com/leagues/NBA_2017_per_game.html\n",
      "https://www.basketball-reference.com/leagues/NBA_2018_per_game.html\n",
      "https://www.basketball-reference.com/leagues/NBA_2019_per_game.html\n"
     ]
    }
   ],
   "source": [
    "### get url\n",
    "for i in range(2010,2020):\n",
    "    url = (f\"https://www.basketball-reference.com/leagues/NBA_{i}_per_game.html\")\n",
    "    print(url)\n",
    "    response = requests.get(url)  \n",
    "    html_soup = BeautifulSoup(response.content,\"lxml\")\n",
    "    table = html_soup.find('table', {'id':'per_game_stats'})\n",
    "    tbody = table.find('tbody').find_all('tr')\n",
    "    player_dict = get_stats(tbody)\n",
    "    player_df = pd.DataFrame(player_dict)\n",
    "    player_df['year'] = i\n",
    "    player_df_final = player_df_final.append(player_df, ignore_index=True)"
   ]
  },
  {
   "cell_type": "code",
   "execution_count": 90,
   "metadata": {},
   "outputs": [
    {
     "data": {
      "text/plain": [
       "2018    664\n",
       "2015    651\n",
       "2011    625\n",
       "2014    611\n",
       "2017    595\n",
       "2016    578\n",
       "2010    578\n",
       "2013    573\n",
       "2012    551\n",
       "2019    445\n",
       "Name: year, dtype: int64"
      ]
     },
     "execution_count": 90,
     "metadata": {},
     "output_type": "execute_result"
    }
   ],
   "source": [
    "player_df_final['year'].value_counts()"
   ]
  },
  {
   "cell_type": "code",
   "execution_count": 2,
   "metadata": {},
   "outputs": [],
   "source": [
    "url = (\"https://www.basketball-reference.com/leagues/NBA_%s%_per_game.html\", i)\n",
    "\n",
    "response = requests.get(url)  \n",
    "html_soup = BeautifulSoup(response.content,\"lxml\")\n",
    "table = html_soup.find('table', {'id':'per_game_stats'})\n",
    "tbody = table.find('tbody').find_all('tr')"
   ]
  },
  {
   "cell_type": "code",
   "execution_count": 66,
   "metadata": {},
   "outputs": [],
   "source": [
    "def get_stats(tbody):\n",
    "    player_dict = {'rank':[],'player':[], 'pos':[], 'age':[], 'team_id':[], 'games':[], 'games_started':[], \n",
    "               'min_per_game':[], 'field_goals':[], 'field_goals_attempts':[], 'field_goals_pct':[]\n",
    "              ,'3points':[], '3points_attempts':[], '3points_pct':[],\n",
    "              '2points':[], '2points_attempts':[], '2points_pct':[], 'efg_pct':[],\n",
    "              'free_throws':[], 'free_throws_attempts':[], 'free_throws_pct':[],\n",
    "              'orb':[], 'drb':[], 'trb':[],\n",
    "              'assists':[], 'steals':[], 'blocks':[], 'turnovers':[], 'personal_fouls':[], 'points_per_game':[] }\n",
    "\n",
    "    for test in tbody:\n",
    "        try:\n",
    "\n",
    "            player_dict['rank'].append(int(test.find('th', {'data-stat':'ranker'}).get_text()))\n",
    "            player_dict['player'].append(test.find('td', {'data-stat':'player'}).get_text())\n",
    "            player_dict['pos'].append(test.find('td', {'data-stat':'pos'}).get_text())\n",
    "            player_dict['age'].append(test.find('td', {'data-stat':'age'}).get_text())\n",
    "            player_dict['team_id'].append(test.find('td', {'data-stat':'team_id'}).get_text())\n",
    "            player_dict['games'].append(test.find('td', {'data-stat':'g'}).get_text())\n",
    "            player_dict['games_started'].append(test.find('td', {'data-stat':'gs'}).get_text())\n",
    "            player_dict['min_per_game'].append(test.find('td', {'data-stat':'mp_per_g'}).get_text())\n",
    "            player_dict['field_goals'].append(test.find('td', {'data-stat':'fg_per_g'}).get_text())\n",
    "            player_dict['field_goals_attempts'].append(test.find('td', {'data-stat':'fga_per_g'}).get_text())\n",
    "            player_dict['field_goals_pct'].append(test.find('td', {'data-stat':'fg_pct'}).get_text())\n",
    "            player_dict['3points'].append(test.find('td', {'data-stat':'fg3_per_g'}).get_text())\n",
    "            player_dict['3points_attempts'].append(test.find('td', {'data-stat':'fg3a_per_g'}).get_text())\n",
    "            player_dict['3points_pct'].append(test.find('td', {'data-stat':'fg3_pct'}).get_text())\n",
    "            player_dict['2points'].append(test.find('td', {'data-stat':'fg2_per_g'}).get_text())\n",
    "            player_dict['2points_attempts'].append(test.find('td', {'data-stat':'fg2a_per_g'}).get_text())\n",
    "            player_dict['2points_pct'].append(test.find('td', {'data-stat':'fg2_pct'}).get_text())\n",
    "            player_dict['efg_pct'].append(test.find('td', {'data-stat':'efg_pct'}).get_text())\n",
    "            player_dict['free_throws'].append(test.find('td', {'data-stat':'ft_per_g'}).get_text())\n",
    "            player_dict['free_throws_attempts'].append(test.find('td', {'data-stat':'fta_per_g'}).get_text())\n",
    "            player_dict['free_throws_pct'].append(test.find('td', {'data-stat':'ft_pct'}).get_text())\n",
    "            player_dict['orb'].append(test.find('td', {'data-stat':'orb_per_g'}).get_text())\n",
    "            player_dict['drb'].append(test.find('td', {'data-stat':'drb_per_g'}).get_text())\n",
    "            player_dict['trb'].append(test.find('td', {'data-stat':'trb_per_g'}).get_text())\n",
    "            player_dict['assists'].append(test.find('td', {'data-stat':'ast_per_g'}).get_text())\n",
    "            player_dict['steals'].append(test.find('td', {'data-stat':'stl_per_g'}).get_text())\n",
    "            player_dict['blocks'].append(test.find('td', {'data-stat':'blk_per_g'}).get_text())\n",
    "            player_dict['turnovers'].append(test.find('td', {'data-stat':'tov_per_g'}).get_text())\n",
    "            player_dict['personal_fouls'].append(test.find('td', {'data-stat':'pf_per_g'}).get_text())\n",
    "            player_dict['points_per_game'].append(test.find('td', {'data-stat':'pts_per_g'}).get_text())\n",
    "\n",
    "        except:\n",
    "            continue\n",
    "\n",
    "\n",
    "    return player_dict"
   ]
  }
 ],
 "metadata": {
  "kernelspec": {
   "display_name": "Python 3",
   "language": "python",
   "name": "python3"
  },
  "language_info": {
   "codemirror_mode": {
    "name": "ipython",
    "version": 3
   },
   "file_extension": ".py",
   "mimetype": "text/x-python",
   "name": "python",
   "nbconvert_exporter": "python",
   "pygments_lexer": "ipython3",
   "version": "3.6.5"
  }
 },
 "nbformat": 4,
 "nbformat_minor": 2
}
